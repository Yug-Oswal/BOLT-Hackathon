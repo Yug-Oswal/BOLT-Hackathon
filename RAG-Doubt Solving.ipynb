{
 "cells": [
  {
   "cell_type": "code",
   "execution_count": 1,
   "id": "5b24c5bc-ced7-4d22-90b4-9666ffd09b74",
   "metadata": {},
   "outputs": [],
   "source": [
    "from langchain.llms import Ollama\n",
    "from langchain.callbacks.manager import CallbackManager\n",
    "from langchain.callbacks.streaming_stdout import StreamingStdOutCallbackHandler\n",
    "from langchain_community.document_loaders import PyPDFLoader\n",
    "from langchain.document_loaders import DirectoryLoader\n",
    "from langchain.text_splitter import RecursiveCharacterTextSplitter\n",
    "from langchain.embeddings import HuggingFaceEmbeddings\n",
    "from langchain.retrievers import BM25Retriever, EnsembleRetriever"
   ]
  },
  {
   "cell_type": "code",
   "execution_count": 2,
   "id": "09933856-a527-49e2-9114-ec42024a75f8",
   "metadata": {},
   "outputs": [],
   "source": [
    "llm = Ollama(model=\"mistral\",  callbacks=CallbackManager([StreamingStdOutCallbackHandler()]), base_url=\"http://127.0.0.1:11434\")"
   ]
  },
  {
   "cell_type": "code",
   "execution_count": 3,
   "id": "be64df70-c848-4459-9fc7-a69bf08271c9",
   "metadata": {},
   "outputs": [
    {
     "data": {
      "text/plain": [
       "[LogicalDevice(name='/device:CPU:0', device_type='CPU')]"
      ]
     },
     "execution_count": 3,
     "metadata": {},
     "output_type": "execute_result"
    }
   ],
   "source": [
    "import tensorflow as tf\n",
    "tf.config.list_logical_devices()"
   ]
  },
  {
   "cell_type": "code",
   "execution_count": 4,
   "id": "3963064b-faf7-4a43-85a9-8402e75aa1a9",
   "metadata": {},
   "outputs": [
    {
     "name": "stderr",
     "output_type": "stream",
     "text": [
      "C:\\Users\\Admin\\AppData\\Local\\Programs\\Python\\Python311\\Lib\\site-packages\\tqdm\\auto.py:21: TqdmWarning: IProgress not found. Please update jupyter and ipywidgets. See https://ipywidgets.readthedocs.io/en/stable/user_install.html\n",
      "  from .autonotebook import tqdm as notebook_tqdm\n"
     ]
    }
   ],
   "source": [
    "modelPath = \"BAAI/bge-large-en-v1.5\"\n",
    "\n",
    "model_kwargs = {'device':'cpu'}\n",
    "encode_kwargs = {'normalize_embeddings': True}\n",
    "\n",
    "embedding = HuggingFaceEmbeddings(\n",
    "    model_name=modelPath,     \n",
    "    model_kwargs=model_kwargs,\n",
    "    encode_kwargs=encode_kwargs \n",
    ")"
   ]
  },
  {
   "cell_type": "code",
   "execution_count": 5,
   "id": "96292e80-653f-4b81-9619-32dcc38aacfa",
   "metadata": {},
   "outputs": [
    {
     "data": {
      "text/plain": [
       "20"
      ]
     },
     "execution_count": 5,
     "metadata": {},
     "output_type": "execute_result"
    }
   ],
   "source": [
    "loader = DirectoryLoader(\"./data\", glob=\"*.pdf\", loader_cls=PyPDFLoader)\n",
    "documents = loader.load()\n",
    "len(documents)"
   ]
  },
  {
   "cell_type": "code",
   "execution_count": 6,
   "id": "edd15f17-5d65-4ecd-a25b-1742ab808104",
   "metadata": {},
   "outputs": [
    {
     "name": "stdout",
     "output_type": "stream",
     "text": [
      "page_content='If we observe some sugar and some soil ( mitti) placed on two different sheets of paper with a magnifying\\nglass, we will find that the colour, shape and size of all the particles of sugar are the same, but the soil\\ncontains particles of different colours, shapes and sizes. For example, the soil contains clay particles,\\nsome grass particles and even some dead insects, etc. Now, sugar which contains particles of only one kind\\nis called a pure substance whereas soil which contains particles of different kinds is called an impure\\nsubstance (or mixture). From this we conclude that all the matter around us is not pure. The matter\\naround us is of two types : pure substances and mixtures . The mixtures are impure substances. We will\\nnow discuss pure substances and mixtures in a little more detail.\\nA pure substance is one which is made up of only one kind of particles. These particles may be atoms\\nor molecules. So, we can also say that a pure substance is one which is made up of only one kind of atoms or\\n(a) Sugar is a pure substance ( b) Soil is an impure substance (or mixture)\\nFigure 1.  The matter around us is of two types : pure substances and mixtures.\\n' metadata={'source': 'data\\\\Matter Around us.pdf', 'page': 0}\n"
     ]
    }
   ],
   "source": [
    "print(documents[0])"
   ]
  },
  {
   "cell_type": "code",
   "execution_count": 7,
   "id": "dd7846d7-6931-4ade-b779-d65ba8fd246d",
   "metadata": {},
   "outputs": [
    {
     "data": {
      "text/plain": [
       "138"
      ]
     },
     "execution_count": 7,
     "metadata": {},
     "output_type": "execute_result"
    }
   ],
   "source": [
    "text_splitter = RecursiveCharacterTextSplitter(chunk_size=500, chunk_overlap=0)\n",
    "texts = text_splitter.split_documents(documents)\n",
    "len(texts)"
   ]
  },
  {
   "cell_type": "code",
   "execution_count": 8,
   "id": "448df799-6803-4b53-8374-9ffff4088339",
   "metadata": {},
   "outputs": [],
   "source": [
    "from langchain.vectorstores import Chroma\n",
    "persist_directory = './db'\n",
    "vectordb = Chroma.from_documents(documents=texts, \n",
    "                                 embedding=embedding,\n",
    "                                 persist_directory=persist_directory)\n",
    "vectordb.persist()"
   ]
  },
  {
   "cell_type": "code",
   "execution_count": 9,
   "id": "6475afc0-9ec3-4641-988b-3236a2a19cca",
   "metadata": {},
   "outputs": [],
   "source": [
    "retriever = vectordb.as_retriever(search_kwargs={'k': 7})"
   ]
  },
  {
   "cell_type": "code",
   "execution_count": 10,
   "id": "b1c8e2f6-4e75-4651-ae3b-f7b616bc839e",
   "metadata": {},
   "outputs": [],
   "source": [
    "bm25_retriever = BM25Retriever.from_documents(texts)\n",
    "bm25_retriever.k =  5"
   ]
  },
  {
   "cell_type": "code",
   "execution_count": 11,
   "id": "a1ec4ab5-9ef0-4370-9098-371bb72976f5",
   "metadata": {},
   "outputs": [],
   "source": [
    "ensemble_retriever = EnsembleRetriever(retrievers=[bm25_retriever, retriever],\n",
    "                                       weights=[0.3, 0.7])"
   ]
  },
  {
   "cell_type": "code",
   "execution_count": 12,
   "id": "aacaf553-957e-4edf-81bd-5ba342df50c7",
   "metadata": {},
   "outputs": [
    {
     "data": {
      "text/plain": [
       "[Document(page_content='If we observe some sugar and some soil ( mitti) placed on two different sheets of paper with a magnifying\\nglass, we will find that the colour, shape and size of all the particles of sugar are the same, but the soil\\ncontains particles of different colours, shapes and sizes. For example, the soil contains clay particles,\\nsome grass particles and even some dead insects, etc. Now, sugar which contains particles of only one kind', metadata={'page': 0, 'source': 'data\\\\Matter Around us.pdf'}),\n",
       " Document(page_content='or molecules. So, we can also say that a pure substance is one which is made up of only one kind of atoms or\\n(a) Sugar is a pure substance ( b) Soil is an impure substance (or mixture)\\nFigure 1.  The matter around us is of two types : pure substances and mixtures.', metadata={'page': 0, 'source': 'data\\\\Matter Around us.pdf'}),\n",
       " Document(page_content='SCIENCE FOR NINTH CLASS : CHEMISTRY 58\\n46.State one property in which a solution of sugar in water resembles a mixture of sugar and sand, and one\\nproperty in which it differs from it.\\n47.You are given two liquids, one a solution and the other a compound. How\\nwill you distinguish the solution from the compound ?\\n48.Name a non-metal :\\n(a) which is lustrous\\n(b) which is required for combustion\\n(c) whose one of the allotrophic forms is a good conductor of electricity. Name\\nthe allotrope.', metadata={'source': 'data\\\\Matter Around us.pdf', 'page': 17}),\n",
       " Document(page_content='(ii) pure substances may be compounds or mixtures\\n(iii) pure substances have the same composition throughout\\n(iv) pure substances can be exemplified by all elements other than nickel\\n(a) (i) and (ii) ( b) (i) and (iii) ( c) (iii) and (iv) ( d) (ii) and (iii)\\n68.Which of the following are homogeneous in nature ?\\n(i) ice ( ii) wood ( iii) soil ( iv) air\\n(a) (i) and (iii) ( b) (ii) and (iv) ( c) (i) and (iv) ( d) (iii) and (iv)', metadata={'source': 'data\\\\Matter Around us.pdf', 'page': 18}),\n",
       " Document(page_content='42.Define a mixture. Give two points of evidence to show that sugar solution is a mixture.\\n43.State two reasons for supposing that brass is a mixture and not a compound.\\n44.List five characteristics by which compounds can be distinguished from mixtures.\\n45.Explain why, a solution of salt in water is considered a mixture and not a compound.', metadata={'source': 'data\\\\Matter Around us.pdf', 'page': 16}),\n",
       " Document(page_content='wood, soil and bricks . A mixture may be homogeneous or heterogeneous. A mixture can be separated into\\nother kinds of matter by physical  processes. A mixture does not have a fixed composition or a fixed\\nmelting point and boiling point. Most of the matter around us exists as mixtures of two or more pure\\nsubstances.\\nFrom the above discussion we conclude that on the basis of their properties, all the matter can be', metadata={'source': 'data\\\\Matter Around us.pdf', 'page': 1})]"
      ]
     },
     "execution_count": 12,
     "metadata": {},
     "output_type": "execute_result"
    }
   ],
   "source": [
    "ensemble_retriever.get_relevant_documents(\"sugar and soil\")"
   ]
  },
  {
   "cell_type": "code",
   "execution_count": 13,
   "id": "fa22947d-257d-40d1-841a-8577e86a5bc0",
   "metadata": {},
   "outputs": [],
   "source": [
    "from langchain.chains import RetrievalQA\n",
    "\n",
    "qa_chain = RetrievalQA.from_chain_type(llm=llm, \n",
    "                                  retriever=ensemble_retriever,\n",
    "                                  return_source_documents=True)"
   ]
  },
  {
   "cell_type": "code",
   "execution_count": 14,
   "id": "0bf48ed2-29c7-41e9-ae50-bb4dcae9f2e2",
   "metadata": {},
   "outputs": [],
   "source": [
    "def process_llm_response(query):\n",
    "    llm_response = qa_chain(query)\n",
    "    return llm_response\n",
    "    # print('\\n\\nSources:')\n",
    "    # for source in llm_response[\"source_documents\"]:\n",
    "    #     print(source.metadata['source'])"
   ]
  },
  {
   "cell_type": "code",
   "execution_count": 15,
   "id": "a84586dd-7dd4-4762-8cdb-246af4aada13",
   "metadata": {},
   "outputs": [
    {
     "name": "stderr",
     "output_type": "stream",
     "text": [
      "C:\\Users\\Admin\\AppData\\Local\\Programs\\Python\\Python311\\Lib\\site-packages\\langchain_core\\_api\\deprecation.py:117: LangChainDeprecationWarning: The function `__call__` was deprecated in LangChain 0.1.0 and will be removed in 0.2.0. Use invoke instead.\n",
      "  warn_deprecated(\n"
     ]
    },
    {
     "name": "stdout",
     "output_type": "stream",
     "text": [
      " Sugar is a pure substance, made up of one kind of molecules with uniform color, shape, and size. Soil, on the other hand, is an impure substance or mixture consisting of different types of particles with various colors, shapes, and sizes, such as clay particles, grass particles, and even dead insects. Metals like sugar are pure substances that can be malleable and ductile, whereas soil contains a variety of materials, including minerals and organic matter."
     ]
    }
   ],
   "source": [
    "query = \"Describe sugar and soil to me in less than 100 words.\"\n",
    "response = process_llm_response(query)"
   ]
  },
  {
   "cell_type": "code",
   "execution_count": 16,
   "id": "09bc75b8-1cad-43ce-922b-626c935638ae",
   "metadata": {},
   "outputs": [
    {
     "name": "stdout",
     "output_type": "stream",
     "text": [
      " Sugar is a pure substance, made up of one kind of molecules with uniform color, shape, and size. Soil, on the other hand, is an impure substance or mixture consisting of different types of particles with various colors, shapes, and sizes, such as clay particles, grass particles, and even dead insects. Metals like sugar are pure substances that can be malleable and ductile, whereas soil contains a variety of materials, including minerals and organic matter.\n"
     ]
    }
   ],
   "source": [
    "print(response['result'])"
   ]
  },
  {
   "cell_type": "code",
   "execution_count": 17,
   "id": "23f57fc4-73b4-41a7-b7c4-456f8a89cb24",
   "metadata": {},
   "outputs": [
    {
     "name": "stdout",
     "output_type": "stream",
     "text": [
      "Sources:\n",
      "\n",
      "page_content='If we observe some sugar and some soil ( mitti) placed on two different sheets of paper with a magnifying\\nglass, we will find that the colour, shape and size of all the particles of sugar are the same, but the soil\\ncontains particles of different colours, shapes and sizes. For example, the soil contains clay particles,\\nsome grass particles and even some dead insects, etc. Now, sugar which contains particles of only one kind' metadata={'page': 0, 'source': 'data\\\\Matter Around us.pdf'}\n",
      "page_content='or molecules. So, we can also say that a pure substance is one which is made up of only one kind of atoms or\\n(a) Sugar is a pure substance ( b) Soil is an impure substance (or mixture)\\nFigure 1.  The matter around us is of two types : pure substances and mixtures.' metadata={'page': 0, 'source': 'data\\\\Matter Around us.pdf'}\n",
      "page_content='exceptions. For example, sodium and potassium metals have low\\nmelting points  (of less than 100°C). Another metal gallium has such a\\nlow melting point that it starts melting in hand (by the heat of our body).\\n9. Metals Have High Densities. This means that metals are heavy\\nsubstances. For example, the density of iron metal is 7.8 g/cm3 which is\\nquite high. There are, however, some exceptions. Sodium and potassium\\nmetals have low densities. They are very light metals.' metadata={'source': 'data\\\\Matter Around us.pdf', 'page': 5}\n",
      "page_content='(ii) pure substances may be compounds or mixtures\\n(iii) pure substances have the same composition throughout\\n(iv) pure substances can be exemplified by all elements other than nickel\\n(a) (i) and (ii) ( b) (i) and (iii) ( c) (iii) and (iv) ( d) (ii) and (iii)\\n68.Which of the following are homogeneous in nature ?\\n(i) ice ( ii) wood ( iii) soil ( iv) air\\n(a) (i) and (iii) ( b) (ii) and (iv) ( c) (i) and (iv) ( d) (iii) and (iv)' metadata={'source': 'data\\\\Matter Around us.pdf', 'page': 18}\n",
      "page_content='is a mixture of two pure substances : salt and water. And milk is a mixture of water, fat and proteins, etc.\\nAll the mixtures are impure substances because they contain more than one kind of particles. Some of the\\nexamples of the mixtures are : salt solution, sugar solution, milk, sea-water, air, sugarcane juice, soft\\ndrinks, sharbat, jaggery (gud),  rocks, minerals, petroleum, LPG, biogas, tap water, tea, coffee, paint,' metadata={'source': 'data\\\\Matter Around us.pdf', 'page': 1}\n",
      "page_content='ductile metals. For example, just 100 milligrams of a highly ductile metal like silver can be drawn into a\\nthin wire about 200 metres long. Copper and aluminium metals are also very ductile and can be drawn into\\nthin wires which are used in electrical wiring. Thus,  ductility is another important characteristic property\\nof metals.  From the above discussion we conclude that metals are malleable and ductile.  It is due to the' metadata={'source': 'data\\\\Matter Around us.pdf', 'page': 4}\n"
     ]
    }
   ],
   "source": [
    "print('Sources:\\n')\n",
    "for source in response['source_documents']:\n",
    "    print(source)"
   ]
  },
  {
   "cell_type": "code",
   "execution_count": 19,
   "id": "e670346b-9818-4246-96c1-038965b2d95a",
   "metadata": {},
   "outputs": [
    {
     "name": "stdout",
     "output_type": "stream",
     "text": [
      "Pages of textbook referenced:\n",
      "0 0 5 18 1 4 "
     ]
    }
   ],
   "source": [
    "print(\"Pages of textbook referenced:\")\n",
    "for source in response['source_documents']:\n",
    "    print(source.metadata['page'], end=\" \")"
   ]
  }
 ],
 "metadata": {
  "kernelspec": {
   "display_name": "Python 3 (ipykernel)",
   "language": "python",
   "name": "python3"
  },
  "language_info": {
   "codemirror_mode": {
    "name": "ipython",
    "version": 3
   },
   "file_extension": ".py",
   "mimetype": "text/x-python",
   "name": "python",
   "nbconvert_exporter": "python",
   "pygments_lexer": "ipython3",
   "version": "3.11.4"
  }
 },
 "nbformat": 4,
 "nbformat_minor": 5
}
