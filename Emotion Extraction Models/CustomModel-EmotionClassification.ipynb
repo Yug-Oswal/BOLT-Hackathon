{
 "cells": [
  {
   "cell_type": "code",
   "execution_count": 89,
   "id": "a3804dfc-ed35-4927-aa47-e188e72aa685",
   "metadata": {},
   "outputs": [],
   "source": [
    "import modin.pandas as pd\n",
    "import re\n",
    "import tensorflow as tf\n",
    "from tensorflow.keras.preprocessing.text import Tokenizer\n",
    "from tensorflow.keras.preprocessing.sequence import pad_sequences\n",
    "from tensorflow.keras.models import Sequential\n",
    "from tensorflow.keras.layers import Dense, Embedding, LSTM, SpatialDropout1D, Input\n",
    "from sklearn.model_selection import train_test_split\n",
    "import numpy as np"
   ]
  },
  {
   "cell_type": "code",
   "execution_count": 57,
   "id": "9f5687ec-0f6b-4680-9739-5e37aab046e9",
   "metadata": {},
   "outputs": [],
   "source": [
    "from nltk.corpus import stopwords\n",
    "from nltk import word_tokenize\n",
    "STOPWORDS = set(stopwords.words('english'))"
   ]
  },
  {
   "cell_type": "code",
   "execution_count": 58,
   "id": "986f0bb0-ff88-4dfc-9ea4-33c972b729a3",
   "metadata": {},
   "outputs": [],
   "source": [
    "df1 = pd.read_csv('./data/goemotions1.csv')\n",
    "df2 = pd.read_csv('./data/goemotions2.csv')\n",
    "df3 = pd.read_csv('./data/goemotions3.csv')"
   ]
  },
  {
   "cell_type": "code",
   "execution_count": 59,
   "id": "53404511-e15c-44e2-852d-9000fe43a6d4",
   "metadata": {},
   "outputs": [
    {
     "data": {
      "text/plain": [
       "['text',\n",
       " 'id',\n",
       " 'author',\n",
       " 'subreddit',\n",
       " 'link_id',\n",
       " 'parent_id',\n",
       " 'created_utc',\n",
       " 'rater_id',\n",
       " 'example_very_unclear',\n",
       " 'admiration',\n",
       " 'amusement',\n",
       " 'anger',\n",
       " 'annoyance',\n",
       " 'approval',\n",
       " 'caring',\n",
       " 'confusion',\n",
       " 'curiosity',\n",
       " 'desire',\n",
       " 'disappointment',\n",
       " 'disapproval',\n",
       " 'disgust',\n",
       " 'embarrassment',\n",
       " 'excitement',\n",
       " 'fear',\n",
       " 'gratitude',\n",
       " 'grief',\n",
       " 'joy',\n",
       " 'love',\n",
       " 'nervousness',\n",
       " 'optimism',\n",
       " 'pride',\n",
       " 'realization',\n",
       " 'relief',\n",
       " 'remorse',\n",
       " 'sadness',\n",
       " 'surprise',\n",
       " 'neutral']"
      ]
     },
     "execution_count": 59,
     "metadata": {},
     "output_type": "execute_result"
    }
   ],
   "source": [
    "list(df1.columns)"
   ]
  },
  {
   "cell_type": "code",
   "execution_count": 60,
   "id": "f64e0890-a75e-46c3-ba42-e8076541c601",
   "metadata": {},
   "outputs": [],
   "source": [
    "df1 = df1.loc[ : , ['text', 'admiration',\n",
    " 'amusement',\n",
    " 'anger',\n",
    " 'annoyance',\n",
    " 'approval',\n",
    " 'caring',\n",
    " 'confusion',\n",
    " 'curiosity',\n",
    " 'desire',\n",
    " 'disappointment',\n",
    " 'disapproval',\n",
    " 'disgust',\n",
    " 'embarrassment',\n",
    " 'excitement',\n",
    " 'fear',\n",
    " 'gratitude',\n",
    " 'grief',\n",
    " 'joy',\n",
    " 'love',\n",
    " 'nervousness',\n",
    " 'optimism',\n",
    " 'pride',\n",
    " 'realization',\n",
    " 'relief',\n",
    " 'remorse',\n",
    " 'sadness',\n",
    " 'surprise',\n",
    " 'neutral']]"
   ]
  },
  {
   "cell_type": "code",
   "execution_count": 61,
   "id": "faf9f7f6-8e9c-4cde-a446-7600993c96df",
   "metadata": {},
   "outputs": [],
   "source": [
    "df2 = df2.loc[ : , ['text', 'admiration',\n",
    " 'amusement',\n",
    " 'anger',\n",
    " 'annoyance',\n",
    " 'approval',\n",
    " 'caring',\n",
    " 'confusion',\n",
    " 'curiosity',\n",
    " 'desire',\n",
    " 'disappointment',\n",
    " 'disapproval',\n",
    " 'disgust',\n",
    " 'embarrassment',\n",
    " 'excitement',\n",
    " 'fear',\n",
    " 'gratitude',\n",
    " 'grief',\n",
    " 'joy',\n",
    " 'love',\n",
    " 'nervousness',\n",
    " 'optimism',\n",
    " 'pride',\n",
    " 'realization',\n",
    " 'relief',\n",
    " 'remorse',\n",
    " 'sadness',\n",
    " 'surprise',\n",
    " 'neutral']]"
   ]
  },
  {
   "cell_type": "code",
   "execution_count": 62,
   "id": "f4e69e52-aca9-413f-aceb-ef0039ac807f",
   "metadata": {},
   "outputs": [],
   "source": [
    "df3 = df3.loc[ : , ['text', 'admiration',\n",
    " 'amusement',\n",
    " 'anger',\n",
    " 'annoyance',\n",
    " 'approval',\n",
    " 'caring',\n",
    " 'confusion',\n",
    " 'curiosity',\n",
    " 'desire',\n",
    " 'disappointment',\n",
    " 'disapproval',\n",
    " 'disgust',\n",
    " 'embarrassment',\n",
    " 'excitement',\n",
    " 'fear',\n",
    " 'gratitude',\n",
    " 'grief',\n",
    " 'joy',\n",
    " 'love',\n",
    " 'nervousness',\n",
    " 'optimism',\n",
    " 'pride',\n",
    " 'realization',\n",
    " 'relief',\n",
    " 'remorse',\n",
    " 'sadness',\n",
    " 'surprise',\n",
    " 'neutral']]"
   ]
  },
  {
   "cell_type": "code",
   "execution_count": 63,
   "id": "e2136ca7-c01f-48a3-b3f2-72fdf0de52d2",
   "metadata": {},
   "outputs": [
    {
     "data": {
      "text/plain": [
       "(70000, 29)"
      ]
     },
     "execution_count": 63,
     "metadata": {},
     "output_type": "execute_result"
    }
   ],
   "source": [
    "df1.shape"
   ]
  },
  {
   "cell_type": "code",
   "execution_count": 64,
   "id": "8762d240-5c99-4094-abea-a022654605f8",
   "metadata": {},
   "outputs": [],
   "source": [
    "total_df = pd.concat([df1, df2, df3])"
   ]
  },
  {
   "cell_type": "code",
   "execution_count": 65,
   "id": "67592fcc-e516-46f4-a862-072d6314fc6b",
   "metadata": {},
   "outputs": [
    {
     "data": {
      "text/plain": [
       "(211225, 29)"
      ]
     },
     "execution_count": 65,
     "metadata": {},
     "output_type": "execute_result"
    }
   ],
   "source": [
    "total_df.shape"
   ]
  },
  {
   "cell_type": "code",
   "execution_count": 84,
   "id": "9ca37086-ef10-4596-8803-7dd528ea5921",
   "metadata": {},
   "outputs": [],
   "source": [
    "total_df = total_df.dropna()"
   ]
  },
  {
   "cell_type": "code",
   "execution_count": 85,
   "id": "305074c3-9036-4590-8ce0-6605febd733d",
   "metadata": {},
   "outputs": [
    {
     "data": {
      "text/plain": [
       "(211225, 29)"
      ]
     },
     "execution_count": 85,
     "metadata": {},
     "output_type": "execute_result"
    }
   ],
   "source": [
    "total_df.shape"
   ]
  },
  {
   "cell_type": "code",
   "execution_count": 52,
   "id": "03c0b5f9-5b33-42d1-99b3-e1106ce6d8b1",
   "metadata": {},
   "outputs": [],
   "source": [
    "REPLACE_BY_SPACE_RE = re.compile('[/(){}\\[\\]\\|@,;]')\n",
    "BAD_SYMBOLS_RE = re.compile('[^0-9a-z #+_]')\n",
    "STOPWORDS = set(stopwords.words('english'))\n",
    "\n",
    "def clean_text(text):\n",
    "    text = text.lower() # lowercase text\n",
    "    text = REPLACE_BY_SPACE_RE.sub(' ', text) # replace REPLACE_BY_SPACE_RE symbols by space in text. substitute the matched string in REPLACE_BY_SPACE_RE with space.\n",
    "    text = BAD_SYMBOLS_RE.sub('', text) # remove symbols which are in BAD_SYMBOLS_RE from text. substitute the matched string in BAD_SYMBOLS_RE with nothing. \n",
    "    text = ' '.join(word for word in text.split() if word not in STOPWORDS) # remove stopwors from text\n",
    "    return text"
   ]
  },
  {
   "cell_type": "code",
   "execution_count": 66,
   "id": "516f3657-8080-4d67-bf98-d5c4f5992cb7",
   "metadata": {},
   "outputs": [
    {
     "data": {
      "text/plain": [
       "0                                      That game hurt.\n",
       "1     >sexuality shouldn’t be a grouping category I...\n",
       "2       You do right, if you don't care then fuck 'em!\n",
       "3                                   Man I love reddit.\n",
       "4    [NAME] was nowhere near them, he was by the Fa...\n",
       "Name: text, dtype: object"
      ]
     },
     "execution_count": 66,
     "metadata": {},
     "output_type": "execute_result"
    }
   ],
   "source": [
    "total_df['text'][:5]"
   ]
  },
  {
   "cell_type": "code",
   "execution_count": 67,
   "id": "e1665569-fd6b-4f27-a199-9ddb271f935c",
   "metadata": {},
   "outputs": [],
   "source": [
    "total_df['text'] = total_df['text'].apply(clean_text)\n",
    "total_df['text'] = total_df['text'].str.replace('\\d+', '')"
   ]
  },
  {
   "cell_type": "code",
   "execution_count": 69,
   "id": "bc6dd77b-a2af-4edf-8adf-974d59bce08e",
   "metadata": {},
   "outputs": [
    {
     "data": {
      "text/plain": [
       "0                                            game hurt\n",
       "1    sexuality shouldnt grouping category makes dif...\n",
       "2                              right dont care fuck em\n",
       "3                                      man love reddit\n",
       "4                             name nowhere near falcon\n",
       "Name: text, dtype: object"
      ]
     },
     "execution_count": 69,
     "metadata": {},
     "output_type": "execute_result"
    }
   ],
   "source": [
    "total_df['text'][:5]"
   ]
  },
  {
   "cell_type": "code",
   "execution_count": 75,
   "id": "18bc085f-4f39-48ae-b618-a59bdea16d2d",
   "metadata": {},
   "outputs": [
    {
     "name": "stdout",
     "output_type": "stream",
     "text": [
      "Found 32388 unique tokens.\n"
     ]
    }
   ],
   "source": [
    "MAX_NB_WORDS = 50000\n",
    "\n",
    "MAX_SEQUENCE_LENGTH = 250\n",
    "\n",
    "EMBEDDING_DIM = 100\n",
    "\n",
    "tokenizer = Tokenizer(num_words=MAX_NB_WORDS, filters='!\"#$%&()*+,-./:;<=>?@[\\]^_`{|}~', lower=True)\n",
    "tokenizer.fit_on_texts(total_df['text'].values)\n",
    "word_index = tokenizer.word_index\n",
    "print('Found %s unique tokens.' % len(word_index))"
   ]
  },
  {
   "cell_type": "code",
   "execution_count": 76,
   "id": "6554ef78-27e2-45e8-abfd-bb76bf90870d",
   "metadata": {},
   "outputs": [
    {
     "name": "stdout",
     "output_type": "stream",
     "text": [
      "Shape of data tensor: (211225, 250)\n"
     ]
    }
   ],
   "source": [
    "X = tokenizer.texts_to_sequences(total_df['text'].values)\n",
    "X = pad_sequences(X, maxlen=MAX_SEQUENCE_LENGTH)\n",
    "print('Shape of data tensor:', X.shape)"
   ]
  },
  {
   "cell_type": "code",
   "execution_count": 81,
   "id": "25dda169-2b4c-47b0-a6b4-53504eda1de3",
   "metadata": {},
   "outputs": [
    {
     "name": "stdout",
     "output_type": "stream",
     "text": [
      "Shape of label tensor: (211225, 28)\n"
     ]
    }
   ],
   "source": [
    "Y = total_df.iloc[ : , 1:].astype(np.float32).values\n",
    "print('Shape of label tensor:', Y.shape)"
   ]
  },
  {
   "cell_type": "code",
   "execution_count": 83,
   "id": "65bb90a3-730e-47cb-9166-bdafe562e408",
   "metadata": {},
   "outputs": [
    {
     "name": "stdout",
     "output_type": "stream",
     "text": [
      "(190102, 250) (190102, 28)\n",
      "(21123, 250) (21123, 28)\n"
     ]
    }
   ],
   "source": [
    "X_train, X_test, Y_train, Y_test = train_test_split(X,Y, test_size = 0.10, random_state = 42)\n",
    "print(X_train.shape,Y_train.shape)\n",
    "print(X_test.shape,Y_test.shape)"
   ]
  },
  {
   "cell_type": "code",
   "execution_count": 90,
   "id": "7fa42f4d-11cf-48f6-a363-9fe62394c342",
   "metadata": {},
   "outputs": [],
   "source": [
    "input = Input(shape=(MAX_SEQUENCE_LENGTH, ))\n",
    "x = Embedding(MAX_NB_WORDS, EMBEDDING_DIM)(input)\n",
    "x = SpatialDropout1D(0.2)(x)\n",
    "x = LSTM(100, dropout=0.2, recurrent_dropout=0.2)(x)\n",
    "output = Dense(28, activation='softmax')(x)\n",
    "model = tf.keras.Model(inputs=input, outputs=output)"
   ]
  },
  {
   "cell_type": "code",
   "execution_count": 91,
   "id": "ae734466-c152-4b6f-a78d-54f2e3d25058",
   "metadata": {},
   "outputs": [],
   "source": [
    "model.compile(loss=tf.keras.losses.SparseCategoricalCrossentropy(), optimizer='adam', metrics=['accuracy'])"
   ]
  },
  {
   "cell_type": "code",
   "execution_count": 92,
   "id": "dd08037a-f3cd-4a3c-92c2-eae765d786af",
   "metadata": {},
   "outputs": [
    {
     "name": "stdout",
     "output_type": "stream",
     "text": [
      "Model: \"model\"\n",
      "_________________________________________________________________\n",
      " Layer (type)                Output Shape              Param #   \n",
      "=================================================================\n",
      " input_2 (InputLayer)        [(None, 250)]             0         \n",
      "                                                                 \n",
      " embedding_1 (Embedding)     (None, 250, 100)          5000000   \n",
      "                                                                 \n",
      " spatial_dropout1d_1 (Spatia  (None, 250, 100)         0         \n",
      " lDropout1D)                                                     \n",
      "                                                                 \n",
      " lstm_1 (LSTM)               (None, 100)               80400     \n",
      "                                                                 \n",
      " dense_1 (Dense)             (None, 28)                2828      \n",
      "                                                                 \n",
      "=================================================================\n",
      "Total params: 5,083,228\n",
      "Trainable params: 5,083,228\n",
      "Non-trainable params: 0\n",
      "_________________________________________________________________\n"
     ]
    }
   ],
   "source": [
    "model.summary()"
   ]
  },
  {
   "cell_type": "code",
   "execution_count": null,
   "id": "783c799e-2987-43fe-9570-b148d99dd054",
   "metadata": {},
   "outputs": [],
   "source": []
  }
 ],
 "metadata": {
  "kernelspec": {
   "display_name": "Python 3 (ipykernel)",
   "language": "python",
   "name": "python3"
  },
  "language_info": {
   "codemirror_mode": {
    "name": "ipython",
    "version": 3
   },
   "file_extension": ".py",
   "mimetype": "text/x-python",
   "name": "python",
   "nbconvert_exporter": "python",
   "pygments_lexer": "ipython3",
   "version": "3.11.4"
  }
 },
 "nbformat": 4,
 "nbformat_minor": 5
}
